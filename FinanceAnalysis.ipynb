{
 "cells": [
  {
   "cell_type": "code",
   "execution_count": 20,
   "metadata": {
    "pycharm": {
     "name": "#%%\n"
    }
   },
   "outputs": [],
   "source": [
    "#Description: This is a python program for finance\n",
    "#             This program will show you how to compute portfolio simple return,\n",
    "#             get daily returns and volatility etc.\n",
    "\n"
   ]
  },
  {
   "cell_type": "code",
   "execution_count": 13,
   "metadata": {
    "pycharm": {
     "name": "#%%\n"
    }
   },
   "outputs": [],
   "source": [
    "from datetime import datetime\n",
    "import numpy as np\n",
    "import pandas as pd\n",
    "import pandas_datareader as web\n",
    "import matplotlib.pyplot as plt\n",
    "plt.style.use('fivethirtyeight')"
   ]
  },
  {
   "cell_type": "code",
   "execution_count": 14,
   "metadata": {},
   "outputs": [],
   "source": [
    "#Get the stock symbols for the portfolio\n",
    "#FAANG\n",
    "stockSymbols = [\"FB\",\"AMZN\",\"AAPL\",\"NFLX\",\"GOOG\"]"
   ]
  },
  {
   "cell_type": "code",
   "execution_count": 15,
   "metadata": {},
   "outputs": [],
   "source": [
    "#Get the stock starting date\n",
    "stockStartDate = '2013-01-01'"
   ]
  },
  {
   "cell_type": "code",
   "execution_count": 16,
   "metadata": {},
   "outputs": [
    {
     "name": "stdout",
     "output_type": "stream",
     "text": [
      "2020-08-19\n"
     ]
    }
   ],
   "source": [
    "#Get todays date and format it in the form YYYY-mm-dd\n",
    "today = datetime.today().strftime('%Y-%m-%d')\n",
    "print(today)"
   ]
  },
  {
   "cell_type": "code",
   "execution_count": 24,
   "metadata": {},
   "outputs": [
    {
     "name": "stdout",
     "output_type": "stream",
     "text": [
      "You have 5 assets in your portfolio.\n"
     ]
    }
   ],
   "source": [
    "#Get the number of assets in the portfolio\n",
    "numAssets = len(stockSymbols)\n",
    "print('You have ' + str(numAssets) + ' assets in your portfolio.')"
   ]
  },
  {
   "cell_type": "code",
   "execution_count": 31,
   "metadata": {},
   "outputs": [],
   "source": [
    "#Create a function to get the stock prices in the portfolio.\n",
    "def getMyPortfolio(stocks=stockSymbols, start=stockStartDate, end=today, col='Adj Close'):\n",
    "    data = web.DataReader(stocks, data_source='yahoo', start=start, end=end)[col]\n",
    "    return data"
   ]
  },
  {
   "cell_type": "code",
   "execution_count": 32,
   "metadata": {},
   "outputs": [
    {
     "data": {
      "text/html": [
       "<div>\n",
       "<style scoped>\n",
       "    .dataframe tbody tr th:only-of-type {\n",
       "        vertical-align: middle;\n",
       "    }\n",
       "\n",
       "    .dataframe tbody tr th {\n",
       "        vertical-align: top;\n",
       "    }\n",
       "\n",
       "    .dataframe thead th {\n",
       "        text-align: right;\n",
       "    }\n",
       "</style>\n",
       "<table border=\"1\" class=\"dataframe\">\n",
       "  <thead>\n",
       "    <tr style=\"text-align: right;\">\n",
       "      <th>Symbols</th>\n",
       "      <th>FB</th>\n",
       "      <th>AMZN</th>\n",
       "      <th>AAPL</th>\n",
       "      <th>NFLX</th>\n",
       "      <th>GOOG</th>\n",
       "    </tr>\n",
       "    <tr>\n",
       "      <th>Date</th>\n",
       "      <th></th>\n",
       "      <th></th>\n",
       "      <th></th>\n",
       "      <th></th>\n",
       "      <th></th>\n",
       "    </tr>\n",
       "  </thead>\n",
       "  <tbody>\n",
       "    <tr>\n",
       "      <th>2012-12-31</th>\n",
       "      <td>26.620001</td>\n",
       "      <td>250.869995</td>\n",
       "      <td>66.278984</td>\n",
       "      <td>13.227143</td>\n",
       "      <td>352.369232</td>\n",
       "    </tr>\n",
       "    <tr>\n",
       "      <th>2013-01-02</th>\n",
       "      <td>28.000000</td>\n",
       "      <td>257.309998</td>\n",
       "      <td>68.378807</td>\n",
       "      <td>13.144286</td>\n",
       "      <td>360.274597</td>\n",
       "    </tr>\n",
       "    <tr>\n",
       "      <th>2013-01-03</th>\n",
       "      <td>27.770000</td>\n",
       "      <td>258.480011</td>\n",
       "      <td>67.515701</td>\n",
       "      <td>13.798572</td>\n",
       "      <td>360.483826</td>\n",
       "    </tr>\n",
       "    <tr>\n",
       "      <th>2013-01-04</th>\n",
       "      <td>28.760000</td>\n",
       "      <td>259.149994</td>\n",
       "      <td>65.635078</td>\n",
       "      <td>13.711429</td>\n",
       "      <td>367.607117</td>\n",
       "    </tr>\n",
       "    <tr>\n",
       "      <th>2013-01-07</th>\n",
       "      <td>29.420000</td>\n",
       "      <td>268.459991</td>\n",
       "      <td>65.249001</td>\n",
       "      <td>14.171429</td>\n",
       "      <td>366.003143</td>\n",
       "    </tr>\n",
       "    <tr>\n",
       "      <th>...</th>\n",
       "      <td>...</td>\n",
       "      <td>...</td>\n",
       "      <td>...</td>\n",
       "      <td>...</td>\n",
       "      <td>...</td>\n",
       "    </tr>\n",
       "    <tr>\n",
       "      <th>2020-08-12</th>\n",
       "      <td>259.890015</td>\n",
       "      <td>3162.239990</td>\n",
       "      <td>452.040009</td>\n",
       "      <td>475.470001</td>\n",
       "      <td>1506.619995</td>\n",
       "    </tr>\n",
       "    <tr>\n",
       "      <th>2020-08-13</th>\n",
       "      <td>261.299988</td>\n",
       "      <td>3161.020020</td>\n",
       "      <td>460.040009</td>\n",
       "      <td>481.329987</td>\n",
       "      <td>1518.449951</td>\n",
       "    </tr>\n",
       "    <tr>\n",
       "      <th>2020-08-14</th>\n",
       "      <td>261.239990</td>\n",
       "      <td>3148.020020</td>\n",
       "      <td>459.630005</td>\n",
       "      <td>482.679993</td>\n",
       "      <td>1507.729980</td>\n",
       "    </tr>\n",
       "    <tr>\n",
       "      <th>2020-08-17</th>\n",
       "      <td>261.160004</td>\n",
       "      <td>3182.409912</td>\n",
       "      <td>458.429993</td>\n",
       "      <td>482.350006</td>\n",
       "      <td>1517.979980</td>\n",
       "    </tr>\n",
       "    <tr>\n",
       "      <th>2020-08-18</th>\n",
       "      <td>262.339996</td>\n",
       "      <td>3312.489990</td>\n",
       "      <td>462.250000</td>\n",
       "      <td>491.869995</td>\n",
       "      <td>1558.599976</td>\n",
       "    </tr>\n",
       "  </tbody>\n",
       "</table>\n",
       "<p>1922 rows × 5 columns</p>\n",
       "</div>"
      ],
      "text/plain": [
       "Symbols             FB         AMZN        AAPL        NFLX         GOOG\n",
       "Date                                                                    \n",
       "2012-12-31   26.620001   250.869995   66.278984   13.227143   352.369232\n",
       "2013-01-02   28.000000   257.309998   68.378807   13.144286   360.274597\n",
       "2013-01-03   27.770000   258.480011   67.515701   13.798572   360.483826\n",
       "2013-01-04   28.760000   259.149994   65.635078   13.711429   367.607117\n",
       "2013-01-07   29.420000   268.459991   65.249001   14.171429   366.003143\n",
       "...                ...          ...         ...         ...          ...\n",
       "2020-08-12  259.890015  3162.239990  452.040009  475.470001  1506.619995\n",
       "2020-08-13  261.299988  3161.020020  460.040009  481.329987  1518.449951\n",
       "2020-08-14  261.239990  3148.020020  459.630005  482.679993  1507.729980\n",
       "2020-08-17  261.160004  3182.409912  458.429993  482.350006  1517.979980\n",
       "2020-08-18  262.339996  3312.489990  462.250000  491.869995  1558.599976\n",
       "\n",
       "[1922 rows x 5 columns]"
      ]
     },
     "execution_count": 32,
     "metadata": {},
     "output_type": "execute_result"
    }
   ],
   "source": [
    "#Get the stock portfolio Adj Close price\n",
    "my_stocks = getMyPortfolio()\n",
    "my_stocks"
   ]
  },
  {
   "cell_type": "code",
   "execution_count": null,
   "metadata": {},
   "outputs": [],
   "source": []
  }
 ],
 "metadata": {
  "kernelspec": {
   "display_name": "Python 3",
   "language": "python",
   "name": "python3"
  },
  "language_info": {
   "codemirror_mode": {
    "name": "ipython",
    "version": 3
   },
   "file_extension": ".py",
   "mimetype": "text/x-python",
   "name": "python",
   "nbconvert_exporter": "python",
   "pygments_lexer": "ipython3",
   "version": "3.8.5"
  }
 },
 "nbformat": 4,
 "nbformat_minor": 1
}
